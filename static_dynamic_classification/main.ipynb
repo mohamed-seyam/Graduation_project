{
 "cells": [
  {
   "cell_type": "code",
   "execution_count": null,
   "metadata": {},
   "outputs": [],
   "source": [
    "#from google.colab import drive\n",
    "\n",
    "from email import utils\n",
    "import pandas as pd \n",
    "import numpy as np\n",
    "import seaborn as sns \n",
    "import matplotlib.pyplot as plt \n",
    "import os \n",
    "from sklearn.model_selection import train_test_split\n",
    "import tensorflow as tf\n",
    "import keras \n",
    "from keras.preprocessing.image import ImageDataGenerator\n",
    "from keras.applications.densenet import DenseNet121\n",
    "from keras.layers import Dense , GlobalAveragePooling2D , Flatten\n",
    "from keras.models import Model\n",
    "from keras import backend as k \n",
    "from keras.models import load_model\n",
    "from tensorflow.keras.optimizers import RMSprop\n",
    "from Graduation_project import utils"
   ]
  },
  {
   "cell_type": "code",
   "execution_count": null,
   "metadata": {},
   "outputs": [],
   "source": [
    "from tensorflow.python.client import device_lib\n",
    "print([device.name for device in device_lib.list_local_devices() if device.name != None])\n",
    "physical_devices = tf.config.experimental.list_physical_devices('GPU')\n",
    "print('GPUs Available:', len(physical_devices))\n",
    "tf.config.experimental.set_memory_growth(physical_devices[0], True)"
   ]
  },
  {
   "cell_type": "code",
   "execution_count": null,
   "metadata": {},
   "outputs": [],
   "source": [
    "os.getcwd()\n",
    "work_dir = os.getcwd()\n",
    "image_dir = os.path.join(work_dir,\"all_optflow_tvl1_50\")\n",
    "data_df = pd.read_csv(os.path.join(work_dir,\"Scripts\\label_file.csv\"))"
   ]
  },
  {
   "cell_type": "code",
   "execution_count": null,
   "metadata": {},
   "outputs": [],
   "source": [
    "df_train, df_valid, df_test= split_data(data_df)\n",
    "print(df_train.shape)\n",
    "print(df_valid.shape)\n",
    "print(df_test.shape)"
   ]
  },
  {
   "cell_type": "code",
   "execution_count": null,
   "metadata": {},
   "outputs": [],
   "source": [
    "check_overlap(df_train,df_valid, df_test)"
   ]
  },
  {
   "cell_type": "code",
   "execution_count": null,
   "metadata": {},
   "outputs": [],
   "source": [
    "train_generator = train_generator(df_train,image_dir,\"image\" , \"class\")\n",
    "valid_generator  , test_generator = test_and_valid_generator(df_valid, df_test, df_train, image_dir, df_train.columns[0],df_train.columns[1])"
   ]
  },
  {
   "cell_type": "code",
   "execution_count": null,
   "metadata": {},
   "outputs": [],
   "source": [
    "x,y = train_generator.__getitem__(0)\n",
    "print(len(x)   )"
   ]
  },
  {
   "cell_type": "code",
   "execution_count": null,
   "metadata": {},
   "outputs": [],
   "source": [
    "plt.imshow(x[62].squeeze())"
   ]
  },
  {
   "cell_type": "code",
   "execution_count": null,
   "metadata": {},
   "outputs": [],
   "source": [
    "pos, neg = compute_class_frq(df_train)"
   ]
  },
  {
   "cell_type": "code",
   "execution_count": null,
   "metadata": {},
   "outputs": [],
   "source": [
    "fig = plt.figure()\n",
    "ax = fig.add_axes([.5,.5,1,1])\n",
    "ax.bar(\"static\",pos,color = 'r')\n",
    "ax.bar(\"dynamic\",neg,color = 'b')\n",
    "ax.legend(labels = ['static','dynamic'])\n",
    "plt.xlabel(\"Frames\")\n",
    "plt.ylabel(\"Percentage\")\n",
    "\n",
    "plt.show()"
   ]
  },
  {
   "cell_type": "code",
   "execution_count": null,
   "metadata": {},
   "outputs": [],
   "source": [
    "from keras.callbacks import ModelCheckpoint\n",
    "\n",
    "#{epoch:04d} -> for naming unique file after each epoch\n",
    "checkpoint_path = \"saved_model_cp/cp-{epoch:04d}.ckpt\"\n",
    "checkpoint_dir  = os.path.dirname(checkpoint_path)\n",
    "\n",
    "cp_callback = tf.keras.callbacks.ModelCheckpoint(\n",
    "                checkpoint_path,\n",
    "                save_weights_only=True,\n",
    "                verbose=1,\n",
    "                period= 1, #save each 1 epoch\n",
    "                )\n",
    "\n",
    "model = create_model()"
   ]
  },
  {
   "cell_type": "code",
   "execution_count": null,
   "metadata": {},
   "outputs": [],
   "source": [
    "# gpu_slot = 0\n",
    "# with tf.device('/GPU:0' + str(gpu_slot)):\n",
    "history = model.fit_generator(\n",
    "        train_generator, \n",
    "        epochs = 5,\n",
    "        validation_data = valid_generator,\n",
    "        callbacks = [cp_callback],\n",
    "        # use_multiprocessing=True,\n",
    "        # workers = 2\n",
    "        )\n"
   ]
  }
 ],
 "metadata": {
  "language_info": {
   "name": "python"
  },
  "orig_nbformat": 4
 },
 "nbformat": 4,
 "nbformat_minor": 2
}
